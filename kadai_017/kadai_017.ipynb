{
  "nbformat": 4,
  "nbformat_minor": 0,
  "metadata": {
    "colab": {
      "provenance": []
    },
    "kernelspec": {
      "name": "python3",
      "display_name": "Python 3"
    },
    "language_info": {
      "name": "python"
    }
  },
  "cells": [
    {
      "cell_type": "code",
      "execution_count": 38,
      "metadata": {
        "colab": {
          "base_uri": "https://localhost:8080/"
        },
        "id": "kZpfyccAmKHu",
        "outputId": "7a771ca4-19a6-4f4a-b824-23344069eb5e"
      },
      "outputs": [
        {
          "output_type": "stream",
          "name": "stdout",
          "text": [
            "侍太郎 is not adult\n",
            "侍一郎 is adult\n",
            "侍二郎 is adult\n"
          ]
        }
      ],
      "source": [
        "#nameとageの属性を持つHumanクラス作成\n",
        "class Human:\n",
        "\n",
        "  def __init__(self,name,age):\n",
        "    self.name = name\n",
        "    self.age = age\n",
        "\n",
        "#以下の条件で標準出力(print)するcheck_adultメソッドを追加\n",
        "#ageが20以上の場合に大人であること\n",
        "#そうでない場合に大人でないこと\n",
        "  def check_adult(self):\n",
        "    if self.age >= 20:\n",
        "      print(f\"{self.name} is adult\")\n",
        "    else:\n",
        "      print(f\"{self.name} is not adult\")\n",
        "\n",
        "#Humanクラスのインスタンスを複数生成\n",
        "human1 = Human(\"侍太郎\", 18)\n",
        "human2 = Human(\"侍一郎\", 20)\n",
        "human3 = Human(\"侍二郎\", 31)\n",
        "\n",
        "#インスタンスをリスト化\n",
        "Human_info = [human1, human2, human3]\n",
        "\n",
        "#リストの要素数分だけcheck_adultメソッドを呼び出す\n",
        "for human in Human_info:\n",
        "  human.check_adult()"
      ]
    }
  ]
}