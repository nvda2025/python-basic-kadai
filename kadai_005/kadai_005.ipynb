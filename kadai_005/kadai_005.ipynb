{
  "nbformat": 4,
  "nbformat_minor": 0,
  "metadata": {
    "colab": {
      "provenance": []
    },
    "kernelspec": {
      "name": "python3",
      "display_name": "Python 3"
    },
    "language_info": {
      "name": "python"
    }
  },
  "cells": [
    {
      "cell_type": "code",
      "execution_count": 4,
      "metadata": {
        "colab": {
          "base_uri": "https://localhost:8080/"
        },
        "id": "K2IH2Tv8jFpn",
        "outputId": "4078f012-a46d-485a-8e9f-67b4c437ecfc"
      },
      "outputs": [
        {
          "output_type": "stream",
          "name": "stdout",
          "text": [
            "台形の面積は75.0cm²\n"
          ]
        }
      ],
      "source": [
        "uper_side = 20\n",
        "under_side = 10\n",
        "height = 5\n",
        "\n",
        "trapezoidal_area = (uper_side + under_side) * height / 2\n",
        "\n",
        "print(f\"台形の面積は{trapezoidal_area}cm²\")\n"
      ]
    }
  ]
}