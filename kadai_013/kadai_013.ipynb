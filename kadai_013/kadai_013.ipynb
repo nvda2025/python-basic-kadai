{
  "nbformat": 4,
  "nbformat_minor": 0,
  "metadata": {
    "colab": {
      "provenance": []
    },
    "kernelspec": {
      "name": "python3",
      "display_name": "Python 3"
    },
    "language_info": {
      "name": "python"
    }
  },
  "cells": [
    {
      "cell_type": "code",
      "execution_count": 7,
      "metadata": {
        "colab": {
          "base_uri": "https://localhost:8080/"
        },
        "id": "cgzrZxWfdoZ6",
        "outputId": "7747f24f-95ff-4088-f795-2302e76ddf0f"
      },
      "outputs": [
        {
          "output_type": "execute_result",
          "data": {
            "text/plain": [
              "121.0"
            ]
          },
          "metadata": {},
          "execution_count": 7
        }
      ],
      "source": [
        "def calculate_total(price, tax):\n",
        "    tax = price * 0.1\n",
        "    total = price + tax\n",
        "    return total\n",
        "\n",
        "calculate_total(110, 10)"
      ]
    }
  ]
}