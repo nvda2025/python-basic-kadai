{
  "nbformat": 4,
  "nbformat_minor": 0,
  "metadata": {
    "colab": {
      "provenance": []
    },
    "kernelspec": {
      "name": "python3",
      "display_name": "Python 3"
    },
    "language_info": {
      "name": "python"
    }
  },
  "cells": [
    {
      "cell_type": "code",
      "execution_count": 67,
      "metadata": {
        "colab": {
          "base_uri": "https://localhost:8080/"
        },
        "id": "jgQ0euxX1XvJ",
        "outputId": "c7ca24ca-d96b-466a-d8ce-aed7aa03eda8"
      },
      "outputs": [
        {
          "output_type": "stream",
          "name": "stdout",
          "text": [
            "for文 処理結果\n",
            "水\n",
            "金\n",
            "地\n",
            "火\n",
            "木\n",
            "土\n",
            "天\n",
            "海\n",
            "冥\n",
            "水\n",
            "金\n",
            "地\n",
            "火\n",
            "木\n",
            "土\n",
            "天\n",
            "海\n",
            "冥\n",
            "\n",
            "while文 処理結果\n",
            "水\n",
            "金\n",
            "地\n",
            "火\n",
            "木\n",
            "土\n",
            "天\n",
            "海\n",
            "冥\n",
            "水\n",
            "金\n",
            "地\n",
            "火\n",
            "木\n",
            "土\n",
            "天\n",
            "海\n",
            "冥\n"
          ]
        }
      ],
      "source": [
        "#リスト\n",
        "array = [\"水\",\"金\",\"地\",\"火\",\"木\",\"土\",\"天\",\"海\",\"冥\"]\n",
        "\n",
        "#for文で処理を2回繰り返し、処理結果を表示する\n",
        "print(\"for文 処理結果\")\n",
        "\n",
        "for planet in range(2):\n",
        "    for planet in array:\n",
        "       print(planet)\n",
        "\n",
        "\n",
        "#while文で処理を繰り返し、2回目を超えたら処理をストップし、処理結果を表示する\n",
        "print(\"\")\n",
        "print(\"while文 処理結果\")\n",
        "\n",
        "i = 0\n",
        "\n",
        "while i < 2:\n",
        "    for planet in array:\n",
        "        print(planet)\n",
        "\n",
        "    i = i + 1\n",
        "\n"
      ]
    }
  ]
}